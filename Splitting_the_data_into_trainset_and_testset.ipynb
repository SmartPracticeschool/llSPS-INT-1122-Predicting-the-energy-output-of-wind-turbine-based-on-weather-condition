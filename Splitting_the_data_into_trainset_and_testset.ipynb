{
 "cells": [
  {
   "cell_type": "code",
   "execution_count": 1,
   "metadata": {},
   "outputs": [
    {
     "data": {
      "text/plain": [
       "'C:\\\\Users\\\\Rambabu\\\\Desktop\\\\remoteinternship2020\\\\python'"
      ]
     },
     "execution_count": 1,
     "metadata": {},
     "output_type": "execute_result"
    }
   ],
   "source": [
    "import os\n",
    "os.getcwd()"
   ]
  },
  {
   "cell_type": "code",
   "execution_count": 2,
   "metadata": {},
   "outputs": [],
   "source": [
    "os.chdir(\"C:/Users/Rambabu/Desktop/remoteinternship2020/dataset\")"
   ]
  },
  {
   "cell_type": "code",
   "execution_count": 3,
   "metadata": {},
   "outputs": [
    {
     "data": {
      "text/plain": [
       "'C:\\\\Users\\\\Rambabu\\\\Desktop\\\\remoteinternship2020\\\\dataset'"
      ]
     },
     "execution_count": 3,
     "metadata": {},
     "output_type": "execute_result"
    }
   ],
   "source": [
    "os.getcwd()"
   ]
  },
  {
   "cell_type": "code",
   "execution_count": 4,
   "metadata": {},
   "outputs": [],
   "source": [
    "import numpy as np\n",
    "import pandas as pd"
   ]
  },
  {
   "cell_type": "code",
   "execution_count": 6,
   "metadata": {},
   "outputs": [],
   "source": [
    "data=pd.read_csv(\"T1.csv\")"
   ]
  },
  {
   "cell_type": "code",
   "execution_count": 7,
   "metadata": {},
   "outputs": [
    {
     "data": {
      "text/html": [
       "<div>\n",
       "<style scoped>\n",
       "    .dataframe tbody tr th:only-of-type {\n",
       "        vertical-align: middle;\n",
       "    }\n",
       "\n",
       "    .dataframe tbody tr th {\n",
       "        vertical-align: top;\n",
       "    }\n",
       "\n",
       "    .dataframe thead th {\n",
       "        text-align: right;\n",
       "    }\n",
       "</style>\n",
       "<table border=\"1\" class=\"dataframe\">\n",
       "  <thead>\n",
       "    <tr style=\"text-align: right;\">\n",
       "      <th></th>\n",
       "      <th>Date/Time</th>\n",
       "      <th>LV ActivePower (kW)</th>\n",
       "      <th>Wind Speed (m/s)</th>\n",
       "      <th>Theoretical_Power_Curve (KWh)</th>\n",
       "      <th>Wind Direction (°)</th>\n",
       "    </tr>\n",
       "  </thead>\n",
       "  <tbody>\n",
       "    <tr>\n",
       "      <th>0</th>\n",
       "      <td>01 01 2018 00:00</td>\n",
       "      <td>380.047791</td>\n",
       "      <td>5.311336</td>\n",
       "      <td>416.328908</td>\n",
       "      <td>259.994904</td>\n",
       "    </tr>\n",
       "    <tr>\n",
       "      <th>1</th>\n",
       "      <td>01 01 2018 00:10</td>\n",
       "      <td>453.769196</td>\n",
       "      <td>5.672167</td>\n",
       "      <td>519.917511</td>\n",
       "      <td>268.641113</td>\n",
       "    </tr>\n",
       "    <tr>\n",
       "      <th>2</th>\n",
       "      <td>01 01 2018 00:20</td>\n",
       "      <td>306.376587</td>\n",
       "      <td>5.216037</td>\n",
       "      <td>390.900016</td>\n",
       "      <td>272.564789</td>\n",
       "    </tr>\n",
       "    <tr>\n",
       "      <th>3</th>\n",
       "      <td>01 01 2018 00:30</td>\n",
       "      <td>419.645905</td>\n",
       "      <td>5.659674</td>\n",
       "      <td>516.127569</td>\n",
       "      <td>271.258087</td>\n",
       "    </tr>\n",
       "    <tr>\n",
       "      <th>4</th>\n",
       "      <td>01 01 2018 00:40</td>\n",
       "      <td>380.650696</td>\n",
       "      <td>5.577941</td>\n",
       "      <td>491.702972</td>\n",
       "      <td>265.674286</td>\n",
       "    </tr>\n",
       "    <tr>\n",
       "      <th>...</th>\n",
       "      <td>...</td>\n",
       "      <td>...</td>\n",
       "      <td>...</td>\n",
       "      <td>...</td>\n",
       "      <td>...</td>\n",
       "    </tr>\n",
       "    <tr>\n",
       "      <th>50525</th>\n",
       "      <td>31 12 2018 23:10</td>\n",
       "      <td>2963.980957</td>\n",
       "      <td>11.404030</td>\n",
       "      <td>3397.190793</td>\n",
       "      <td>80.502724</td>\n",
       "    </tr>\n",
       "    <tr>\n",
       "      <th>50526</th>\n",
       "      <td>31 12 2018 23:20</td>\n",
       "      <td>1684.353027</td>\n",
       "      <td>7.332648</td>\n",
       "      <td>1173.055771</td>\n",
       "      <td>84.062599</td>\n",
       "    </tr>\n",
       "    <tr>\n",
       "      <th>50527</th>\n",
       "      <td>31 12 2018 23:30</td>\n",
       "      <td>2201.106934</td>\n",
       "      <td>8.435358</td>\n",
       "      <td>1788.284755</td>\n",
       "      <td>84.742500</td>\n",
       "    </tr>\n",
       "    <tr>\n",
       "      <th>50528</th>\n",
       "      <td>31 12 2018 23:40</td>\n",
       "      <td>2515.694092</td>\n",
       "      <td>9.421366</td>\n",
       "      <td>2418.382503</td>\n",
       "      <td>84.297913</td>\n",
       "    </tr>\n",
       "    <tr>\n",
       "      <th>50529</th>\n",
       "      <td>31 12 2018 23:50</td>\n",
       "      <td>2820.466064</td>\n",
       "      <td>9.979332</td>\n",
       "      <td>2779.184096</td>\n",
       "      <td>82.274620</td>\n",
       "    </tr>\n",
       "  </tbody>\n",
       "</table>\n",
       "<p>50530 rows × 5 columns</p>\n",
       "</div>"
      ],
      "text/plain": [
       "              Date/Time  LV ActivePower (kW)  Wind Speed (m/s)  \\\n",
       "0      01 01 2018 00:00           380.047791          5.311336   \n",
       "1      01 01 2018 00:10           453.769196          5.672167   \n",
       "2      01 01 2018 00:20           306.376587          5.216037   \n",
       "3      01 01 2018 00:30           419.645905          5.659674   \n",
       "4      01 01 2018 00:40           380.650696          5.577941   \n",
       "...                 ...                  ...               ...   \n",
       "50525  31 12 2018 23:10          2963.980957         11.404030   \n",
       "50526  31 12 2018 23:20          1684.353027          7.332648   \n",
       "50527  31 12 2018 23:30          2201.106934          8.435358   \n",
       "50528  31 12 2018 23:40          2515.694092          9.421366   \n",
       "50529  31 12 2018 23:50          2820.466064          9.979332   \n",
       "\n",
       "       Theoretical_Power_Curve (KWh)  Wind Direction (°)  \n",
       "0                         416.328908          259.994904  \n",
       "1                         519.917511          268.641113  \n",
       "2                         390.900016          272.564789  \n",
       "3                         516.127569          271.258087  \n",
       "4                         491.702972          265.674286  \n",
       "...                              ...                 ...  \n",
       "50525                    3397.190793           80.502724  \n",
       "50526                    1173.055771           84.062599  \n",
       "50527                    1788.284755           84.742500  \n",
       "50528                    2418.382503           84.297913  \n",
       "50529                    2779.184096           82.274620  \n",
       "\n",
       "[50530 rows x 5 columns]"
      ]
     },
     "execution_count": 7,
     "metadata": {},
     "output_type": "execute_result"
    }
   ],
   "source": [
    "data"
   ]
  },
  {
   "cell_type": "code",
   "execution_count": 9,
   "metadata": {},
   "outputs": [
    {
     "data": {
      "text/plain": [
       "array([['01 01 2018 00:00', 380.047790527343, 5.31133604049682],\n",
       "       ['01 01 2018 00:10', 453.76919555664, 5.67216682434082],\n",
       "       ['01 01 2018 00:20', 306.376586914062, 5.21603679656982],\n",
       "       ...,\n",
       "       ['31 12 2018 23:30', 2201.10693359375, 8.43535804748535],\n",
       "       ['31 12 2018 23:40', 2515.69409179687, 9.42136573791503],\n",
       "       ['31 12 2018 23:50', 2820.46606445312, 9.97933197021484]],\n",
       "      dtype=object)"
      ]
     },
     "execution_count": 9,
     "metadata": {},
     "output_type": "execute_result"
    }
   ],
   "source": [
    "data1=data.drop('Theoretical_Power_Curve (KWh)',axis=1)\n",
    "x=data1.iloc[0:,0:3].values\n",
    "x"
   ]
  },
  {
   "cell_type": "code",
   "execution_count": 17,
   "metadata": {},
   "outputs": [
    {
     "data": {
      "text/plain": [
       "array([5.31133604, 5.67216682, 5.2160368 , ..., 8.43535805, 9.42136574,\n",
       "       9.97933197])"
      ]
     },
     "execution_count": 17,
     "metadata": {},
     "output_type": "execute_result"
    }
   ],
   "source": [
    "y=data.iloc[0:,2].values\n",
    "y"
   ]
  },
  {
   "cell_type": "code",
   "execution_count": 20,
   "metadata": {},
   "outputs": [],
   "source": [
    "from sklearn.model_selection import train_test_split\n",
    "x_train,x_test,y_train,y_test=train_test_split(x,y,test_size=0.2,random_state=0)"
   ]
  },
  {
   "cell_type": "code",
   "execution_count": 21,
   "metadata": {},
   "outputs": [
    {
     "data": {
      "text/plain": [
       "array([['10 12 2018 15:10', 480.995300292968, 5.5590181350708],\n",
       "       ['07 12 2018 09:20', 1396.22802734375, 7.29126977920532],\n",
       "       ['17 04 2018 07:30', 0.0, 3.48792695999145],\n",
       "       ...,\n",
       "       ['03 11 2018 07:00', 3031.63598632812, 11.193799972534098],\n",
       "       ['09 11 2018 22:00', 730.650085449218, 6.4380950927734295],\n",
       "       ['20 01 2018 03:00', 3604.44897460937, 14.530890464782699]],\n",
       "      dtype=object)"
      ]
     },
     "execution_count": 21,
     "metadata": {},
     "output_type": "execute_result"
    }
   ],
   "source": [
    "x_train"
   ]
  },
  {
   "cell_type": "code",
   "execution_count": 22,
   "metadata": {},
   "outputs": [
    {
     "data": {
      "text/plain": [
       "array([ 5.55901814,  7.29126978,  3.48792696, ..., 11.19379997,\n",
       "        6.43809509, 14.53089046])"
      ]
     },
     "execution_count": 22,
     "metadata": {},
     "output_type": "execute_result"
    }
   ],
   "source": [
    "y_train"
   ]
  },
  {
   "cell_type": "code",
   "execution_count": 23,
   "metadata": {},
   "outputs": [
    {
     "data": {
      "text/plain": [
       "array([['10 12 2018 16:10', 576.656982421875, 5.95249605178833],\n",
       "       ['05 02 2018 10:30', 1619.3010253906198, 8.13491821289062],\n",
       "       ['23 12 2018 11:50', 1876.5810546875, 8.20711517333984],\n",
       "       ...,\n",
       "       ['22 03 2018 21:50', 667.257080078125, 6.278903007507321],\n",
       "       ['02 08 2018 14:20', 3473.52294921875, 12.089229583740199],\n",
       "       ['08 08 2018 00:20', 2343.06396484375, 10.3140296936035]],\n",
       "      dtype=object)"
      ]
     },
     "execution_count": 23,
     "metadata": {},
     "output_type": "execute_result"
    }
   ],
   "source": [
    "x_test"
   ]
  },
  {
   "cell_type": "code",
   "execution_count": 24,
   "metadata": {},
   "outputs": [
    {
     "data": {
      "text/plain": [
       "array([ 5.95249605,  8.13491821,  8.20711517, ...,  6.27890301,\n",
       "       12.08922958, 10.31402969])"
      ]
     },
     "execution_count": 24,
     "metadata": {},
     "output_type": "execute_result"
    }
   ],
   "source": [
    "y_test"
   ]
  }
 ],
 "metadata": {
  "kernelspec": {
   "display_name": "Python 3",
   "language": "python",
   "name": "python3"
  },
  "language_info": {
   "codemirror_mode": {
    "name": "ipython",
    "version": 3
   },
   "file_extension": ".py",
   "mimetype": "text/x-python",
   "name": "python",
   "nbconvert_exporter": "python",
   "pygments_lexer": "ipython3",
   "version": "3.7.6"
  }
 },
 "nbformat": 4,
 "nbformat_minor": 4
}
